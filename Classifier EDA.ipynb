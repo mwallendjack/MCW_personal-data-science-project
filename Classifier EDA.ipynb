{
 "cells": [
  {
   "cell_type": "markdown",
   "id": "3193e39b",
   "metadata": {},
   "source": [
    "The purpose for this dataset is to be able to predict the classification of the animals, based upon the variables.\n",
    "\n",
    "This dataset consists of 101 animals from a zoo.\n",
    "There are 16 variables with various traits to describe the animals.\n",
    "The 7 Class Types are: Mammal, Bird, Reptile, Fish, Amphibian, Bug and Invertebrate."
   ]
  },
  {
   "cell_type": "markdown",
   "id": "1813fee0",
   "metadata": {},
   "source": [
    "zoo.csv\n",
    "\n",
    "Attribute Information: (name of attribute and type of value domain)\n",
    "\n",
    "animal_name: Unique for each instance\n",
    "hair Boolean\n",
    "feathers Boolean\n",
    "eggs Boolean\n",
    "milk Boolean\n",
    "airborne Boolean\n",
    "aquatic Boolean\n",
    "predator Boolean\n",
    "toothed Boolean\n",
    "backbone Boolean\n",
    "breathes Boolean\n",
    "venomous Boolean\n",
    "fins Boolean\n",
    "legs Numeric (set of values: {0,2,4,5,6,8})\n",
    "tail Boolean\n",
    "domestic Boolean\n",
    "catsize Boolean\n",
    "class_type Numeric (integer values in range [1,7])"
   ]
  },
  {
   "cell_type": "markdown",
   "id": "552f441d",
   "metadata": {},
   "source": [
    "class.csv\n",
    "\n",
    "This csv describes the dataset\n",
    "\n",
    "Class_Number Numeric (integer values in range [1,7])\n",
    "Number_Of_Animal_Species_In_Class Numeric\n",
    "Class_Type character -- The actual word description of the class\n",
    "Animal_Names character -- The list of the animals that fall in the category of the class"
   ]
  },
  {
   "cell_type": "code",
   "execution_count": null,
   "id": "16a7f2d7",
   "metadata": {},
   "outputs": [],
   "source": [
    "import pandas as pd\n",
    "import numpy as np\n",
    "import zipfile\n",
    "\n",
    "import matplotlib.pyplot as plt\n",
    "import seaborn as sns\n",
    "\n",
    "from sklearn.preprocessing import StandardScaler, LabelEncoder\n",
    "from sklearn.tree import DecisionTreeClassifier\n",
    "from sklearn.model_selection import train_test_split\n",
    "from sklearn.metrics import classification_report, confusion_matrix, accuracy_score"
   ]
  },
  {
   "cell_type": "markdown",
   "id": "39609386",
   "metadata": {},
   "source": [
    "See Files inside of Zip"
   ]
  },
  {
   "cell_type": "code",
   "execution_count": null,
   "id": "eac67d2f",
   "metadata": {},
   "outputs": [],
   "source": [
    "zip_path = \"Zoo Animal Dataset.zip\"\n",
    "\n",
    "# Open the ZIP file and check its contents\n",
    "\n",
    "with zipfile.ZipFile(zip_path, \"r\") as z:\n",
    "    print(z.namelist())  # Lists all files inside the ZIP"
   ]
  },
  {
   "cell_type": "code",
   "execution_count": null,
   "id": "f5e10504",
   "metadata": {},
   "outputs": [],
   "source": [
    "zoo_filename = \"zoo.csv\"  # Replace with actual file name\n",
    "with zipfile.ZipFile(zip_path, \"r\") as z:\n",
    "    with z.open(zoo_filename) as f:\n",
    "        zoo_df = pd.read_csv(f)\n",
    "\n",
    "# Display the first few rows\n",
    "zoo_df"
   ]
  },
  {
   "cell_type": "code",
   "execution_count": null,
   "id": "850826db",
   "metadata": {},
   "outputs": [],
   "source": [
    "class_filename = \"class.csv\"  # Replace with actual file name\n",
    "with zipfile.ZipFile(zip_path, \"r\") as z:\n",
    "    with z.open(class_filename) as f:\n",
    "        class_df = pd.read_csv(f)\n",
    "\n",
    "# Display the first few rows\n",
    "class_df.head()"
   ]
  },
  {
   "cell_type": "code",
   "execution_count": null,
   "id": "67451fe9",
   "metadata": {},
   "outputs": [],
   "source": [
    "missing_values = zoo_df.isnull().sum()\n",
    "\n",
    "print(missing_values)"
   ]
  },
  {
   "cell_type": "code",
   "execution_count": null,
   "id": "79484e31",
   "metadata": {},
   "outputs": [],
   "source": [
    "zoo_df.describe()"
   ]
  },
  {
   "cell_type": "markdown",
   "id": "73297e42",
   "metadata": {},
   "source": [
    "The field called 'Legs' is the only numerical field with more than 2 values aside from info on Classes"
   ]
  },
  {
   "cell_type": "code",
   "execution_count": null,
   "id": "ce906237",
   "metadata": {},
   "outputs": [],
   "source": [
    "unique_counts = zoo_df.isnull().sum()\n",
    "print(unique_counts)"
   ]
  },
  {
   "cell_type": "code",
   "execution_count": null,
   "id": "48d666fb",
   "metadata": {},
   "outputs": [],
   "source": [
    "num_duplicates = zoo_df.duplicated().sum()\n",
    "\n",
    "print(num_duplicates)"
   ]
  },
  {
   "cell_type": "code",
   "execution_count": null,
   "id": "bed4f54c",
   "metadata": {},
   "outputs": [],
   "source": [
    "# Map class_type number to actual class name\n",
    "class_mapping = class_df.set_index(\"Class_Number\")[\"Class_Type\"].to_dict()\n",
    "zoo_df[\"class_name\"] = zoo_df[\"class_type\"].map(class_mapping)"
   ]
  },
  {
   "cell_type": "code",
   "execution_count": null,
   "id": "50e6c564",
   "metadata": {},
   "outputs": [],
   "source": [
    "    # Create a boxplot of number of legs by class\n",
    "    plt.figure(figsize=(10, 6))\n",
    "    sns.boxplot(data=zoo_df, x='class_name', y='legs', palette='Set3')\n",
    "    plt.title('Number of Legs by Animal Class')\n",
    "    plt.xlabel('Animal Class')\n",
    "    plt.ylabel('Number of Legs')    \n",
    "    plt.xticks(rotation=45)\n",
    "    plt.grid(axis='y')\n",
    "    plt.tight_layout()\n",
    "    plt.show()"
   ]
  },
  {
   "cell_type": "markdown",
   "id": "18042122",
   "metadata": {},
   "source": [
    "Suspicous here which Mamammals have 2 legs or 0 legs"
   ]
  },
  {
   "cell_type": "code",
   "execution_count": null,
   "id": "ba753b27",
   "metadata": {},
   "outputs": [],
   "source": []
  },
  {
   "cell_type": "code",
   "execution_count": null,
   "id": "d77df0f5",
   "metadata": {},
   "outputs": [],
   "source": [
    "non_fourleg_mam = zoo_df[(zoo_df['class_name'] == 'Mammal')& (zoo_df['legs'] < 4)]\n",
    "\n",
    "\n",
    "# print(non_fourleg_mam[['animal_name', 'legs','class_name']] )\n",
    "\n",
    "non_fourleg_mam"
   ]
  },
  {
   "cell_type": "code",
   "execution_count": null,
   "id": "bd4b4b14",
   "metadata": {},
   "outputs": [],
   "source": [
    "target_animal_changelegs = ['wallaby','vampire','squirrel','sealion','seal','gorilla','fruitbat']\n",
    "\n",
    "zoo_df.loc[zoo_df['animal_name'].isin(target_animal_changelegs), 'legs'] = 4\n"
   ]
  },
  {
   "cell_type": "code",
   "execution_count": null,
   "id": "f48819f7",
   "metadata": {},
   "outputs": [],
   "source": [
    "mask = zoo_df['animal_name'].isin(target_animal_changelegs)\n",
    "\n",
    "zoo_df_updated = zoo_df[mask]\n",
    "\n",
    "print(zoo_df_updated[['animal_name', 'legs', 'class_name']].to_string(index=False))\n"
   ]
  },
  {
   "cell_type": "markdown",
   "id": "6dc3e874",
   "metadata": {},
   "source": [
    "Scaling \"Legs\" feature as having 8 legs\" isn’t 8x more important than \"1 leg\"\n",
    "This should help improve training speed and convergence in some models.\n",
    "\n",
    "StandardScaler will standardize values to: \n",
    "\n",
    "\n",
    "Mean = 0\n",
    "\n",
    "\n",
    "Standard deviation = 1\n"
   ]
  },
  {
   "cell_type": "code",
   "execution_count": null,
   "id": "9d687c9a",
   "metadata": {},
   "outputs": [],
   "source": [
    "scaler = StandardScaler()\n",
    "X['legs']  = scaler.fit_transform(X[['legs']])"
   ]
  },
  {
   "cell_type": "code",
   "execution_count": null,
   "id": "40591b65",
   "metadata": {},
   "outputs": [],
   "source": [
    "# Plot class distribution\n",
    "plt.figure(figsize=(10, 6))\n",
    "zoo_df[\"class_name\"].value_counts().plot(kind=\"bar\", color=\"skyblue\", edgecolor=\"black\")\n",
    "plt.title(\"Distribution of Animal Classes\")\n",
    "plt.xlabel(\"Animal Class\")\n",
    "plt.ylabel(\"Number of Animals\")\n",
    "plt.xticks(rotation=45)\n",
    "plt.grid(axis=\"y\")\n",
    "plt.tight_layout()\n",
    "plt.show()"
   ]
  },
  {
   "cell_type": "markdown",
   "id": "dd76b773",
   "metadata": {},
   "source": [
    "Preprocessing"
   ]
  },
  {
   "cell_type": "code",
   "execution_count": null,
   "id": "4b2d285b",
   "metadata": {},
   "outputs": [],
   "source": [
    "zoo_df"
   ]
  },
  {
   "cell_type": "code",
   "execution_count": null,
   "id": "1d935b24",
   "metadata": {},
   "outputs": [],
   "source": [
    "class_df"
   ]
  },
  {
   "cell_type": "markdown",
   "id": "d2d2f9c2",
   "metadata": {},
   "source": [
    "Drop Non Predictive Columns"
   ]
  },
  {
   "cell_type": "code",
   "execution_count": null,
   "id": "c1b2892e",
   "metadata": {},
   "outputs": [],
   "source": [
    "df_model = zoo_df.drop(columns=['animal_name', 'class_name'])\n",
    "\n",
    "df_model"
   ]
  },
  {
   "cell_type": "markdown",
   "id": "432a9722",
   "metadata": {},
   "source": [
    "Separate Features from Target"
   ]
  },
  {
   "cell_type": "code",
   "execution_count": null,
   "id": "9eac55b2",
   "metadata": {},
   "outputs": [],
   "source": [
    "X = df_model.drop(columns = 'class_type')\n",
    "y = df_model['class_type']"
   ]
  },
  {
   "cell_type": "markdown",
   "id": "4d244ee4",
   "metadata": {},
   "source": [
    "Training and Testing Data"
   ]
  },
  {
   "cell_type": "code",
   "execution_count": null,
   "id": "15f91570",
   "metadata": {},
   "outputs": [],
   "source": [
    "X_train, X_test, y_train, y_test = train_test_split(X, y, test_size= 0.2, random_state= 22)\n",
    "\n",
    "# print(X_train.head())\n",
    "print(y_train.head())"
   ]
  },
  {
   "cell_type": "markdown",
   "id": "ada8efb2",
   "metadata": {},
   "source": [
    "Modelling Classifiers: Decision Tree & Random Forrest"
   ]
  },
  {
   "cell_type": "code",
   "execution_count": null,
   "id": "b86f5679",
   "metadata": {},
   "outputs": [],
   "source": [
    "clf1 = DecisionTreeClassifier(random_state = 22)\n",
    "\n",
    "clf1.fit(X_train, y_train)\n"
   ]
  },
  {
   "cell_type": "markdown",
   "id": "0e84a5fa",
   "metadata": {},
   "source": [
    "Predict"
   ]
  },
  {
   "cell_type": "code",
   "execution_count": null,
   "id": "ed019d3b",
   "metadata": {},
   "outputs": [],
   "source": [
    "y_pred = clf1.predict(X_test)"
   ]
  },
  {
   "cell_type": "markdown",
   "id": "9dc5b0b8",
   "metadata": {},
   "source": [
    "Evaluate"
   ]
  },
  {
   "cell_type": "code",
   "execution_count": null,
   "id": "7c926621",
   "metadata": {},
   "outputs": [],
   "source": [
    "# 1. Print the Classification Report\n",
    "print(classification_report(y_test, y_pred))\n",
    "\n",
    "# 2. Print the Confusion Matrix\n",
    "print(\"Confusion Matrix:\")\n",
    "print(confusion_matrix(y_test, y_pred))\n",
    "\n",
    "# 3. Print the Accuracy Score\n",
    "print(\"Accuracy Score:\", accuracy_score(y_test, y_pred))\n"
   ]
  },
  {
   "cell_type": "code",
   "execution_count": null,
   "id": "67b3f6ca",
   "metadata": {},
   "outputs": [],
   "source": [
    "import matplotlib.pyplot as plt\n",
    "import seaborn as sns\n",
    "from sklearn.metrics import confusion_matrix\n",
    "\n",
    "# Step 1: Predict (assuming you already have y_pred)\n",
    "# y_pred = clf1.predict(X_test)\n",
    "\n",
    "# Step 2: Create the confusion matrix\n",
    "cm = confusion_matrix(y_test, y_pred)\n",
    "\n",
    "# # Step 3: Plot the heatmap\n",
    "# plt.figure(figsize=(8,6))\n",
    "# sns.heatmap(cm, annot=True, fmt='d', cmap='Blues', cbar=False)\n",
    "# plt.title('Confusion Matrix')\n",
    "# plt.xlabel('Predicted Labels')\n",
    "# plt.ylabel('True Labels')\n",
    "# plt.show()\n",
    "\n",
    "labels = ['Mammal', 'Bird', 'Reptile', 'Fish', 'Amphibian', 'Bug', 'Invertebrate']\n",
    "\n",
    "sns.heatmap(cm, annot=True, fmt='d', cmap='Blues', cbar=False,\n",
    "            xticklabels=labels, yticklabels=labels)\n",
    "\n"
   ]
  },
  {
   "cell_type": "markdown",
   "id": "33e5eead",
   "metadata": {},
   "source": []
  }
 ],
 "metadata": {
  "kernelspec": {
   "display_name": "Python 3",
   "language": "python",
   "name": "python3"
  },
  "language_info": {
   "codemirror_mode": {
    "name": "ipython",
    "version": 3
   },
   "file_extension": ".py",
   "mimetype": "text/x-python",
   "name": "python",
   "nbconvert_exporter": "python",
   "pygments_lexer": "ipython3",
   "version": "3.12.3"
  }
 },
 "nbformat": 4,
 "nbformat_minor": 5
}
