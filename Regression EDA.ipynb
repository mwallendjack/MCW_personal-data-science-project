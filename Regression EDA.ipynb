{
 "cells": [
  {
   "cell_type": "markdown",
   "metadata": {},
   "source": [
    "Imports"
   ]
  },
  {
   "cell_type": "code",
   "execution_count": null,
   "metadata": {},
   "outputs": [],
   "source": [
    "pip install xgboost lightgbm"
   ]
  },
  {
   "cell_type": "code",
   "execution_count": null,
   "metadata": {},
   "outputs": [],
   "source": [
    "import zipfile\n",
    "import numpy as np\n",
    "import pandas as pd \n",
    "\n",
    "import seaborn as sns\n",
    "import matplotlib.pyplot as plt\n",
    "import seaborn as sns\n",
    "\n",
    "\n",
    "from sklearn.model_selection import train_test_split\n",
    "from sklearn.linear_model import LinearRegression\n",
    "from sklearn.ensemble import RandomForestRegressor\n",
    "from sklearn.metrics import r2_score, mean_absolute_error, mean_squared_error\n",
    "from xgboost import XGBRegressor\n",
    "from xgboost import plot_importance\n",
    "\n",
    "\n"
   ]
  },
  {
   "cell_type": "code",
   "execution_count": null,
   "metadata": {},
   "outputs": [],
   "source": [
    "zip_path = 'Housing Price Regression.zip'\n",
    "\n",
    "\n",
    "# Open the ZIP file and check its contents\n",
    "\n",
    "with zipfile.ZipFile(zip_path, 'r') as z:\n",
    "    print(z.namelist())  # Lists all files inside the ZIP\n"
   ]
  },
  {
   "cell_type": "markdown",
   "metadata": {},
   "source": [
    "Read In Data"
   ]
  },
  {
   "cell_type": "code",
   "execution_count": null,
   "metadata": {},
   "outputs": [],
   "source": [
    "# Assuming it contains a CSV file, read it directly\n",
    "csv_filename = \"house_price_regression_dataset.csv\"  # Replace with actual file name\n",
    "with zipfile.ZipFile(zip_path, 'r') as z:\n",
    "    with z.open(csv_filename) as f:\n",
    "        df = pd.read_csv(f)\n",
    "\n",
    "# Display the first few rows\n",
    "df.head()"
   ]
  },
  {
   "cell_type": "markdown",
   "metadata": {},
   "source": [
    "Print out Column Names"
   ]
  },
  {
   "cell_type": "code",
   "execution_count": null,
   "metadata": {},
   "outputs": [],
   "source": [
    "df.columns"
   ]
  },
  {
   "cell_type": "markdown",
   "metadata": {},
   "source": [
    "Length and width of File"
   ]
  },
  {
   "cell_type": "code",
   "execution_count": null,
   "metadata": {},
   "outputs": [],
   "source": [
    "df.shape"
   ]
  },
  {
   "cell_type": "markdown",
   "metadata": {},
   "source": [
    "Summary Statstics"
   ]
  },
  {
   "cell_type": "code",
   "execution_count": null,
   "metadata": {},
   "outputs": [],
   "source": [
    "df.describe()"
   ]
  },
  {
   "cell_type": "markdown",
   "metadata": {},
   "source": [
    "Check for the presence of any nulls"
   ]
  },
  {
   "cell_type": "code",
   "execution_count": null,
   "metadata": {},
   "outputs": [],
   "source": [
    "df.isnull().values.any()\n"
   ]
  },
  {
   "cell_type": "markdown",
   "metadata": {},
   "source": [
    "Determine Field Data Types. Might need to convert types."
   ]
  },
  {
   "cell_type": "code",
   "execution_count": null,
   "metadata": {},
   "outputs": [],
   "source": [
    "print(df.dtypes)"
   ]
  },
  {
   "cell_type": "code",
   "execution_count": null,
   "metadata": {},
   "outputs": [],
   "source": [
    "target_column = \"House_Price\""
   ]
  },
  {
   "cell_type": "markdown",
   "metadata": {},
   "source": [
    "Plot all Predictor Variables to get Initial Look"
   ]
  },
  {
   "cell_type": "markdown",
   "metadata": {},
   "source": [
    "`Square Footage` appears to be factor affecting House Price. Other Features seem to have less linear influence. Tree-based models (like Random Forest, XGBoost) do not require linear relationships.\n",
    "\n",
    "Some features just don’t have much signal.\n",
    "\n",
    "`Horizontal Bar` --> Indicates that there are only a few unique values and the model can't learn enough if there is not enough variation. Check the variance of fields: A variable can't be predictive of the target if it doesn’t vary much. \n",
    "\n",
    "`Shotgun Blast` ( Points scattered everywhere ) --> The feature has no predictive relationship to the target"
   ]
  },
  {
   "cell_type": "code",
   "execution_count": null,
   "metadata": {},
   "outputs": [],
   "source": [
    "sns.pairplot(df)"
   ]
  },
  {
   "cell_type": "code",
   "execution_count": null,
   "metadata": {},
   "outputs": [],
   "source": [
    "for col in ['Num_Bedrooms', 'Num_Bathrooms', 'Garage_Size', 'Neighborhood_Quality','Lot_Size','Year_Built']:\n",
    "    print(f\"{col}: Unique values = {df[col].nunique()}, Value counts:\\n{df[col].value_counts()}\\n\")\n"
   ]
  },
  {
   "cell_type": "code",
   "execution_count": null,
   "metadata": {},
   "outputs": [],
   "source": [
    "\n",
    "for col in ['Square_Footage', 'Lot_Size', 'Num_Bedrooms', 'Num_Bathrooms', 'Year_Built', 'Garage_Size', 'Neighborhood_Quality','House_Price',  ]:  # Replace with your predictor variables\n",
    "    plt.figure(figsize=(6, 4))\n",
    "    sns.histplot(df[col], kde=True, bins=30)\n",
    "    plt.title(f\"Distribution of {col}\")\n",
    "    plt.show()\n"
   ]
  },
  {
   "cell_type": "markdown",
   "metadata": {},
   "source": [
    "Q-Q plots (Quantile-Quantile plot) to assess if your data is normally distributed *A key assumption in Linear Regression and other statistical models"
   ]
  },
  {
   "cell_type": "code",
   "execution_count": null,
   "metadata": {},
   "outputs": [],
   "source": [
    "import matplotlib.pyplot as plt\n",
    "import scipy.stats as stats\n",
    "\n",
    "for col in df.columns:  # Loop through predictor variables\n",
    "    plt.figure(figsize=(6, 4))\n",
    "    stats.probplot(df[col], dist=\"norm\", plot=plt)\n",
    "    plt.title(f\"Q-Q Plot of {col}\")\n",
    "    plt.show()\n"
   ]
  },
  {
   "cell_type": "markdown",
   "metadata": {},
   "source": [
    "Reviewing Correlations to House Price"
   ]
  },
  {
   "cell_type": "code",
   "execution_count": null,
   "metadata": {},
   "outputs": [],
   "source": [
    "df.corr()[\"House_Price\"]\n"
   ]
  },
  {
   "cell_type": "markdown",
   "metadata": {},
   "source": [
    "Investigate Multicollinearity\n",
    "\n",
    "If Square Footage is highly correlated with Bedrooms then this features might not contribute much independently."
   ]
  },
  {
   "cell_type": "code",
   "execution_count": null,
   "metadata": {},
   "outputs": [],
   "source": [
    "sns.heatmap(df.corr(), annot=True, cmap=\"coolwarm\", fmt=\".2f\")\n",
    "plt.show()\n"
   ]
  },
  {
   "cell_type": "markdown",
   "metadata": {},
   "source": [
    "It would be nice to have features such as \"Location\" or \"Condition\""
   ]
  },
  {
   "cell_type": "markdown",
   "metadata": {},
   "source": [
    "Box Plots to Identify Outliers\n"
   ]
  },
  {
   "cell_type": "code",
   "execution_count": null,
   "metadata": {},
   "outputs": [],
   "source": [
    "# Define the number of rows and columns for the grid layout\n",
    "num_columns = 3  # Adjust based on preference\n",
    "num_features = len(df.columns)\n",
    "num_rows = int(np.ceil(num_features / num_columns))\n",
    "\n",
    "# Create subplots for boxplots\n",
    "fig, axes = plt.subplots(num_rows, num_columns, figsize=(15, num_rows * 4))\n",
    "axes = axes.flatten()  # Flatten in case of fewer plots than grid spots\n",
    "\n",
    "# Plot each feature separately in the grid\n",
    "for i, col in enumerate(df.columns):\n",
    "    sns.boxplot(y=df[col], ax=axes[i])  # Box plot for each variable\n",
    "    axes[i].set_title(f\"Boxplot of {col}\")\n",
    "\n",
    "# Remove empty subplots if any\n",
    "for j in range(i + 1, len(axes)):\n",
    "    fig.delaxes(axes[j])\n",
    "\n",
    "plt.tight_layout()\n",
    "plt.show()"
   ]
  },
  {
   "cell_type": "markdown",
   "metadata": {},
   "source": [
    "Using Linear Regression as a `Baseline` model.\n",
    "\n",
    "Can more complex beat this? --> Occam's razor-->\n",
    "Quantify the Power of One Good Feature\n",
    "How much of the variance in price can Square_Footage alone explain?\""
   ]
  },
  {
   "cell_type": "code",
   "execution_count": null,
   "metadata": {},
   "outputs": [],
   "source": [
    "y = df[\"House_Price\"]\n",
    "X_sqft = df[['Square_Footage']]\n",
    "X_full = df.drop(columns = ['House_Price'])"
   ]
  },
  {
   "cell_type": "code",
   "execution_count": null,
   "metadata": {},
   "outputs": [],
   "source": [
    "X1_train, X1_test, y1_train, y1_test = train_test_split(X_sqft, y, test_size = 0.2, random_state = 22)\n",
    "X2_train, X2_test, y2_train, y2_test = train_test_split(X_full, y, test_size = 0.2, random_state= 22)"
   ]
  },
  {
   "cell_type": "code",
   "execution_count": null,
   "metadata": {},
   "outputs": [],
   "source": [
    "lr_model = LinearRegression().fit(X1_train, y1_train)\n",
    "rf_model = RandomForestRegressor(n_estimators=100, random_state=22,).fit(X2_train, y2_train)# Builds an ensemble collection of individual decision trees and averaging their predictions to get a final result."
   ]
  },
  {
   "cell_type": "code",
   "execution_count": null,
   "metadata": {},
   "outputs": [],
   "source": [
    "lr_preds = lr_model.predict(X1_test)\n",
    "rf_preds = rf_model.predict(X2_test)\n",
    "\n",
    "def evaluate(name, y_true, y_pred):\n",
    "    print(f\" {name}\")\n",
    "    print(f\"R² Score-Coefficient of Determination: {r2_score(y_true, y_pred):,.2f}\")\n",
    "    print(f\"MAE real-world error: {mean_absolute_error(y_true, y_pred):,.2f}\")\n",
    "    print(f\"RMSE: {np.sqrt(mean_squared_error(y_true, y_pred)):,.2f}\\n\")\n",
    "\n",
    "evaluate(\"Linear Regression (Square Footage)\", y1_test, lr_preds)\n",
    "evaluate(\"Random Forest (All Features)\", y2_test, rf_preds)\n"
   ]
  },
  {
   "cell_type": "code",
   "execution_count": null,
   "metadata": {},
   "outputs": [],
   "source": [
    "plt.figure(figsize=(10, 6))\n",
    "\n",
    "plt.scatter(y1_test, lr_preds, alpha=0.5, label=\"Linear Regression\", color=\"blue\")\n",
    "plt.scatter(y2_test, rf_preds, alpha=0.5, label=\"Random Forest\", color=\"green\")\n",
    "\n",
    "plt.plot([y.min(), y.max()], [y.min(), y.max()], 'k--', lw=2, label='Perfect Prediction')\n",
    "\n",
    "plt.xlabel(\"Actual House Price\")\n",
    "plt.ylabel(\"Predicted House Price\")\n",
    "plt.title(\"Actual vs. Predicted Prices\")\n",
    "plt.legend()\n",
    "plt.grid(True)\n",
    "plt.show()\n"
   ]
  },
  {
   "cell_type": "markdown",
   "metadata": {},
   "source": [
    "Which ones are most predictive of House_Price?"
   ]
  },
  {
   "cell_type": "code",
   "execution_count": null,
   "metadata": {},
   "outputs": [],
   "source": [
    "\n",
    "\n",
    "# Get feature importances from the trained model\n",
    "importances = rf_model.feature_importances_\n",
    "\n",
    "# Match them to the column names\n",
    "feature_names = X2_train.columns\n",
    "importance_df = pd.DataFrame({\n",
    "    \"Feature\": feature_names,\n",
    "    \"Importance\": importances\n",
    "}).sort_values(by=\"Importance\", ascending=False)\n"
   ]
  },
  {
   "cell_type": "code",
   "execution_count": null,
   "metadata": {},
   "outputs": [],
   "source": [
    "\n",
    "\n",
    "plt.figure(figsize=(10, 6))\n",
    "sns.barplot(x=\"Importance\", y=\"Feature\", data=importance_df)\n",
    "\n",
    "plt.title(\"Feature Importance - Random Forest\")\n",
    "plt.xlabel(\"Importance Score\")\n",
    "plt.ylabel(\"Feature\")\n",
    "plt.grid(True)\n",
    "plt.tight_layout()\n",
    "plt.show()\n"
   ]
  },
  {
   "cell_type": "markdown",
   "metadata": {},
   "source": [
    "Demonstrating Optimal Number of Trees"
   ]
  },
  {
   "cell_type": "code",
   "execution_count": null,
   "metadata": {},
   "outputs": [],
   "source": [
    "for n in [10, 50, 100, 200, 500]:\n",
    "    model = RandomForestRegressor(n_estimators=n, random_state=42)\n",
    "    model.fit(X2_train, y2_train)\n",
    "    preds = model.predict(X2_test)\n",
    "    print(f\"{n} trees → R²: {r2_score(y2_test, preds):.3f}\")\n"
   ]
  },
  {
   "cell_type": "code",
   "execution_count": null,
   "metadata": {},
   "outputs": [],
   "source": [
    "\n",
    "# Create and fit model\n",
    "xgb_model = XGBRegressor(n_estimators=100, learning_rate=0.1, random_state=42)\n",
    "xgb_model.fit(X2_train, y2_train)  # Use your full feature training set\n",
    "\n",
    "# Predict\n",
    "xgb_preds = xgb_model.predict(X2_test)\n",
    "\n",
    "#Printing Results from Previous Models\n",
    "evaluate(\"Linear Regression (Square Footage)\", y1_test, lr_preds)\n",
    "evaluate(\"Random Forest (All Features)\", y2_test, rf_preds)\n",
    "\n",
    "\n",
    "# Evaluate\n",
    "print(\"XGBoost Performance\")\n",
    "print(f\"R² Score: {r2_score(y2_test, xgb_preds):.2f}\")\n",
    "print(f\"MAE real-world error: {mean_absolute_error(y2_test, xgb_preds):,.2f}\")\n",
    "print(f\"RMSE: {np.sqrt(mean_squared_error(y2_test, xgb_preds)):,.2f}\")\n"
   ]
  },
  {
   "cell_type": "markdown",
   "metadata": {},
   "source": [
    "XGBoost finds importance in features that Random Forest ignores.\n",
    "Random Forest does not go back and correct past errors. \n",
    "Each Tree is built independently from bootstrapped data. Each node considers a random subset of features.\n",
    "If one or two features dominate early splits other features may be ignored.\n",
    "\n",
    "XGBoost Builds Trees in Sequence. Each tree is built to correct the errors of previous trees.\n",
    "XGBoost finds value in more features because it builds smarter, targeted trees — not just “randomly sampled” ones.\n"
   ]
  },
  {
   "cell_type": "code",
   "execution_count": null,
   "metadata": {},
   "outputs": [],
   "source": [
    "plot_importance(xgb_model, height=0.8)\n",
    "plt.title(\"XGBoost Feature Importance\")\n",
    "plt.show()"
   ]
  },
  {
   "cell_type": "markdown",
   "metadata": {},
   "source": [
    "# Comments / Areas of Improvements / Constructive Criticism"
   ]
  },
  {
   "cell_type": "markdown",
   "metadata": {},
   "source": []
  }
 ],
 "metadata": {
  "kernelspec": {
   "display_name": "Python 3",
   "language": "python",
   "name": "python3"
  },
  "language_info": {
   "codemirror_mode": {
    "name": "ipython",
    "version": 3
   },
   "file_extension": ".py",
   "mimetype": "text/x-python",
   "name": "python",
   "nbconvert_exporter": "python",
   "pygments_lexer": "ipython3",
   "version": "3.12.3"
  }
 },
 "nbformat": 4,
 "nbformat_minor": 2
}
